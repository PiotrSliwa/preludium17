{
 "cells": [
  {
   "cell_type": "code",
   "execution_count": 1,
   "outputs": [],
   "source": [
    "from database import get_local_database\n",
    "db = get_local_database()"
   ],
   "metadata": {
    "collapsed": false,
    "pycharm": {
     "name": "#%% DB\n"
    }
   }
  },
  {
   "cell_type": "code",
   "execution_count": 2,
   "outputs": [],
   "source": [
    "reference_flows = {}\n",
    "information_flow = db.materialized_information_flow.find().sort('date', 1)\n",
    "for row in information_flow:\n",
    "    focal = row['focal']\n",
    "    reference = row['reference']\n",
    "    if not focal in reference_flows:\n",
    "        reference_flows[focal] = []\n",
    "    reference_flows[focal].append(reference)"
   ],
   "metadata": {
    "collapsed": false,
    "pycharm": {
     "name": "#%% Gather reference flows for all focals\n"
    }
   }
  },
  {
   "cell_type": "code",
   "execution_count": 3,
   "outputs": [],
   "source": [
    "most_popular_reference = next(db.materialized_reference_popularity.find().sort([('popularity', -1)]))\n",
    "max_popularity = most_popular_reference['popularity']\n",
    "reference_popularity = db.materialized_reference_popularity.find({'popularity': {'$lte': int(max_popularity / 2)}}).sort([('popularity', -1), ('_id', 1)])\n",
    "global_reference = next(reference_popularity)\n",
    "global_reference_focals = global_reference['focals']"
   ],
   "metadata": {
    "collapsed": false,
    "pycharm": {
     "name": "#%% Choose a global reference subject to further analysis\n"
    }
   }
  },
  {
   "cell_type": "code",
   "execution_count": 4,
   "outputs": [],
   "source": [
    "from sklearn.feature_extraction import DictVectorizer\n",
    "\n",
    "vectorizer = DictVectorizer()\n",
    "features = {}\n",
    "for focal in reference_flows:\n",
    "    reference_flow = reference_flows[focal]\n",
    "    try:\n",
    "        last_index_of_global_reference = len(reference_flow) - reference_flow[::-1].index(global_reference['_id']) - 1\n",
    "        limited_reference_flow = reference_flow[:last_index_of_global_reference]\n",
    "    except ValueError:\n",
    "        # Use full history when there is no global reference in there\n",
    "        limited_reference_flow = reference_flow\n",
    "\n",
    "    #Feature selection algorithm (key is the feature and value is the intensity)\n",
    "    features[focal] = dict([(reference, 1) for reference in limited_reference_flow])\n",
    "\n",
    "vectorizer.fit(features.values())\n",
    "vectors = dict(map(lambda e: (e[0], vectorizer.transform(e[1])), features.items()))"
   ],
   "metadata": {
    "collapsed": false,
    "pycharm": {
     "name": "#%% Compute features and their intensities\n"
    }
   }
  },
  {
   "cell_type": "code",
   "execution_count": 5,
   "outputs": [],
   "source": [
    "from scipy.spatial import distance\n",
    "from itertools import combinations\n",
    "\n",
    "def focal_distance(focal_a, focal_b):\n",
    "    return distance.euclidean(vectors[focal_a].toarray(), vectors[focal_b].toarray())\n",
    "\n",
    "def average_distance(focals):\n",
    "    total = 0.0\n",
    "    count = 0\n",
    "    for (a, b) in combinations(focals, 2):\n",
    "        total += focal_distance(a, b)\n",
    "        count += 1\n",
    "    return total / count\n",
    "\n",
    "def average_distance_between(focals_a, focals_b):\n",
    "    total = 0.0\n",
    "    count = 0\n",
    "    for a in focals_a:\n",
    "        for b in focals_b:\n",
    "            total += focal_distance(a, b)\n",
    "            count += 1\n",
    "    return total / count\n",
    "\n",
    "\n",
    "non_global_reference_focals = list(filter(lambda x: x not in global_reference_focals, vectors.keys()))\n",
    "average_distances = {\n",
    "    'within_global_reference': average_distance(global_reference_focals),\n",
    "    'within_non_global_reference': average_distance(non_global_reference_focals),\n",
    "    'between_global_and_non_global_reference': average_distance_between(global_reference_focals, non_global_reference_focals)\n",
    "}"
   ],
   "metadata": {
    "collapsed": false,
    "pycharm": {
     "name": "#%% Compare the vectors\n"
    }
   }
  }
 ],
 "metadata": {
  "kernelspec": {
   "display_name": "Python 3",
   "language": "python",
   "name": "python3"
  },
  "language_info": {
   "codemirror_mode": {
    "name": "ipython",
    "version": 2
   },
   "file_extension": ".py",
   "mimetype": "text/x-python",
   "name": "python",
   "nbconvert_exporter": "python",
   "pygments_lexer": "ipython2",
   "version": "2.7.6"
  }
 },
 "nbformat": 4,
 "nbformat_minor": 0
}