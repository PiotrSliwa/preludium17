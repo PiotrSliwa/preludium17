{
 "cells": [
  {
   "cell_type": "code",
   "execution_count": 1,
   "outputs": [],
   "source": [
    "from database import get_local_database, get_reference_flows\n",
    "db = get_local_database()\n",
    "reference_flows = get_reference_flows(db)"
   ],
   "metadata": {
    "collapsed": false,
    "pycharm": {
     "name": "#%% DB\n"
    }
   }
  },
  {
   "cell_type": "code",
   "execution_count": 5,
   "outputs": [
    {
     "name": "stdout",
     "output_type": "stream",
     "text": [
      "0\n",
      "True    1\n",
      "Name: supports_hypothesis, dtype: int64\n",
      "1\n",
      "True     1\n",
      "False    1\n",
      "Name: supports_hypothesis, dtype: int64\n",
      "2\n",
      "True     2\n",
      "False    1\n",
      "Name: supports_hypothesis, dtype: int64\n",
      "3\n",
      "True     3\n",
      "False    1\n",
      "Name: supports_hypothesis, dtype: int64\n",
      "4\n",
      "True     3\n",
      "False    2\n",
      "Name: supports_hypothesis, dtype: int64\n",
      "5\n"
     ]
    },
    {
     "ename": "KeyboardInterrupt",
     "evalue": "",
     "output_type": "error",
     "traceback": [
      "\u001B[0;31m---------------------------------------------------------------------------\u001B[0m",
      "\u001B[0;31mKeyboardInterrupt\u001B[0m                         Traceback (most recent call last)",
      "\u001B[0;32m<ipython-input-5-fac3caeafe0b>\u001B[0m in \u001B[0;36m<module>\u001B[0;34m\u001B[0m\n\u001B[1;32m     65\u001B[0m     \u001B[0mprint\u001B[0m\u001B[0;34m(\u001B[0m\u001B[0mi\u001B[0m\u001B[0;34m)\u001B[0m\u001B[0;34m\u001B[0m\u001B[0;34m\u001B[0m\u001B[0m\n\u001B[1;32m     66\u001B[0m     \u001B[0mreference\u001B[0m \u001B[0;34m=\u001B[0m \u001B[0mnext\u001B[0m\u001B[0;34m(\u001B[0m\u001B[0mreferences\u001B[0m\u001B[0;34m)\u001B[0m\u001B[0;34m\u001B[0m\u001B[0;34m\u001B[0m\u001B[0m\n\u001B[0;32m---> 67\u001B[0;31m     \u001B[0mvectors\u001B[0m \u001B[0;34m=\u001B[0m \u001B[0mcalculate_vectors\u001B[0m\u001B[0;34m(\u001B[0m\u001B[0mreference\u001B[0m\u001B[0;34m[\u001B[0m\u001B[0;34m'_id'\u001B[0m\u001B[0;34m]\u001B[0m\u001B[0;34m)\u001B[0m\u001B[0;34m\u001B[0m\u001B[0;34m\u001B[0m\u001B[0m\n\u001B[0m\u001B[1;32m     68\u001B[0m     \u001B[0mb\u001B[0m \u001B[0;34m=\u001B[0m \u001B[0mbenchmark\u001B[0m\u001B[0;34m(\u001B[0m\u001B[0mvectors\u001B[0m\u001B[0;34m,\u001B[0m \u001B[0mreference\u001B[0m\u001B[0;34m[\u001B[0m\u001B[0;34m'focals'\u001B[0m\u001B[0;34m]\u001B[0m\u001B[0;34m)\u001B[0m\u001B[0;34m\u001B[0m\u001B[0;34m\u001B[0m\u001B[0m\n\u001B[1;32m     69\u001B[0m     bs.append({\n",
      "\u001B[0;32m<ipython-input-5-fac3caeafe0b>\u001B[0m in \u001B[0;36mcalculate_vectors\u001B[0;34m(reference_id)\u001B[0m\n\u001B[1;32m     28\u001B[0m \u001B[0;34m\u001B[0m\u001B[0m\n\u001B[1;32m     29\u001B[0m     \u001B[0mvectorizer\u001B[0m\u001B[0;34m.\u001B[0m\u001B[0mfit\u001B[0m\u001B[0;34m(\u001B[0m\u001B[0mfeatures\u001B[0m\u001B[0;34m.\u001B[0m\u001B[0mvalues\u001B[0m\u001B[0;34m(\u001B[0m\u001B[0;34m)\u001B[0m\u001B[0;34m)\u001B[0m\u001B[0;34m\u001B[0m\u001B[0;34m\u001B[0m\u001B[0m\n\u001B[0;32m---> 30\u001B[0;31m     \u001B[0;32mreturn\u001B[0m \u001B[0mdict\u001B[0m\u001B[0;34m(\u001B[0m\u001B[0mmap\u001B[0m\u001B[0;34m(\u001B[0m\u001B[0;32mlambda\u001B[0m \u001B[0me\u001B[0m\u001B[0;34m:\u001B[0m \u001B[0;34m(\u001B[0m\u001B[0me\u001B[0m\u001B[0;34m[\u001B[0m\u001B[0;36m0\u001B[0m\u001B[0;34m]\u001B[0m\u001B[0;34m,\u001B[0m \u001B[0mvectorizer\u001B[0m\u001B[0;34m.\u001B[0m\u001B[0mtransform\u001B[0m\u001B[0;34m(\u001B[0m\u001B[0me\u001B[0m\u001B[0;34m[\u001B[0m\u001B[0;36m1\u001B[0m\u001B[0;34m]\u001B[0m\u001B[0;34m)\u001B[0m\u001B[0;34m)\u001B[0m\u001B[0;34m,\u001B[0m \u001B[0mfeatures\u001B[0m\u001B[0;34m.\u001B[0m\u001B[0mitems\u001B[0m\u001B[0;34m(\u001B[0m\u001B[0;34m)\u001B[0m\u001B[0;34m)\u001B[0m\u001B[0;34m)\u001B[0m\u001B[0;34m\u001B[0m\u001B[0;34m\u001B[0m\u001B[0m\n\u001B[0m\u001B[1;32m     31\u001B[0m \u001B[0;34m\u001B[0m\u001B[0m\n\u001B[1;32m     32\u001B[0m \u001B[0;32mdef\u001B[0m \u001B[0mbenchmark\u001B[0m\u001B[0;34m(\u001B[0m\u001B[0mvectors\u001B[0m\u001B[0;34m,\u001B[0m \u001B[0mreference_focals\u001B[0m\u001B[0;34m)\u001B[0m\u001B[0;34m:\u001B[0m\u001B[0;34m\u001B[0m\u001B[0;34m\u001B[0m\u001B[0m\n",
      "\u001B[0;32m<ipython-input-5-fac3caeafe0b>\u001B[0m in \u001B[0;36m<lambda>\u001B[0;34m(e)\u001B[0m\n\u001B[1;32m     28\u001B[0m \u001B[0;34m\u001B[0m\u001B[0m\n\u001B[1;32m     29\u001B[0m     \u001B[0mvectorizer\u001B[0m\u001B[0;34m.\u001B[0m\u001B[0mfit\u001B[0m\u001B[0;34m(\u001B[0m\u001B[0mfeatures\u001B[0m\u001B[0;34m.\u001B[0m\u001B[0mvalues\u001B[0m\u001B[0;34m(\u001B[0m\u001B[0;34m)\u001B[0m\u001B[0;34m)\u001B[0m\u001B[0;34m\u001B[0m\u001B[0;34m\u001B[0m\u001B[0m\n\u001B[0;32m---> 30\u001B[0;31m     \u001B[0;32mreturn\u001B[0m \u001B[0mdict\u001B[0m\u001B[0;34m(\u001B[0m\u001B[0mmap\u001B[0m\u001B[0;34m(\u001B[0m\u001B[0;32mlambda\u001B[0m \u001B[0me\u001B[0m\u001B[0;34m:\u001B[0m \u001B[0;34m(\u001B[0m\u001B[0me\u001B[0m\u001B[0;34m[\u001B[0m\u001B[0;36m0\u001B[0m\u001B[0;34m]\u001B[0m\u001B[0;34m,\u001B[0m \u001B[0mvectorizer\u001B[0m\u001B[0;34m.\u001B[0m\u001B[0mtransform\u001B[0m\u001B[0;34m(\u001B[0m\u001B[0me\u001B[0m\u001B[0;34m[\u001B[0m\u001B[0;36m1\u001B[0m\u001B[0;34m]\u001B[0m\u001B[0;34m)\u001B[0m\u001B[0;34m)\u001B[0m\u001B[0;34m,\u001B[0m \u001B[0mfeatures\u001B[0m\u001B[0;34m.\u001B[0m\u001B[0mitems\u001B[0m\u001B[0;34m(\u001B[0m\u001B[0;34m)\u001B[0m\u001B[0;34m)\u001B[0m\u001B[0;34m)\u001B[0m\u001B[0;34m\u001B[0m\u001B[0;34m\u001B[0m\u001B[0m\n\u001B[0m\u001B[1;32m     31\u001B[0m \u001B[0;34m\u001B[0m\u001B[0m\n\u001B[1;32m     32\u001B[0m \u001B[0;32mdef\u001B[0m \u001B[0mbenchmark\u001B[0m\u001B[0;34m(\u001B[0m\u001B[0mvectors\u001B[0m\u001B[0;34m,\u001B[0m \u001B[0mreference_focals\u001B[0m\u001B[0;34m)\u001B[0m\u001B[0;34m:\u001B[0m\u001B[0;34m\u001B[0m\u001B[0;34m\u001B[0m\u001B[0m\n",
      "\u001B[0;32m~/opt/anaconda3/envs/Badania/lib/python3.8/site-packages/sklearn/feature_extraction/_dict_vectorizer.py\u001B[0m in \u001B[0;36mtransform\u001B[0;34m(self, X)\u001B[0m\n\u001B[1;32m    287\u001B[0m         \"\"\"\n\u001B[1;32m    288\u001B[0m         \u001B[0;32mif\u001B[0m \u001B[0mself\u001B[0m\u001B[0;34m.\u001B[0m\u001B[0msparse\u001B[0m\u001B[0;34m:\u001B[0m\u001B[0;34m\u001B[0m\u001B[0;34m\u001B[0m\u001B[0m\n\u001B[0;32m--> 289\u001B[0;31m             \u001B[0;32mreturn\u001B[0m \u001B[0mself\u001B[0m\u001B[0;34m.\u001B[0m\u001B[0m_transform\u001B[0m\u001B[0;34m(\u001B[0m\u001B[0mX\u001B[0m\u001B[0;34m,\u001B[0m \u001B[0mfitting\u001B[0m\u001B[0;34m=\u001B[0m\u001B[0;32mFalse\u001B[0m\u001B[0;34m)\u001B[0m\u001B[0;34m\u001B[0m\u001B[0;34m\u001B[0m\u001B[0m\n\u001B[0m\u001B[1;32m    290\u001B[0m \u001B[0;34m\u001B[0m\u001B[0m\n\u001B[1;32m    291\u001B[0m         \u001B[0;32melse\u001B[0m\u001B[0;34m:\u001B[0m\u001B[0;34m\u001B[0m\u001B[0;34m\u001B[0m\u001B[0m\n",
      "\u001B[0;32m~/opt/anaconda3/envs/Badania/lib/python3.8/site-packages/sklearn/feature_extraction/_dict_vectorizer.py\u001B[0m in \u001B[0;36m_transform\u001B[0;34m(self, X, fitting)\u001B[0m\n\u001B[1;32m    168\u001B[0m                     \u001B[0mv\u001B[0m \u001B[0;34m=\u001B[0m \u001B[0;36m1\u001B[0m\u001B[0;34m\u001B[0m\u001B[0;34m\u001B[0m\u001B[0m\n\u001B[1;32m    169\u001B[0m                 \u001B[0;32mif\u001B[0m \u001B[0mf\u001B[0m \u001B[0;32min\u001B[0m \u001B[0mvocab\u001B[0m\u001B[0;34m:\u001B[0m\u001B[0;34m\u001B[0m\u001B[0;34m\u001B[0m\u001B[0m\n\u001B[0;32m--> 170\u001B[0;31m                     \u001B[0mindices\u001B[0m\u001B[0;34m.\u001B[0m\u001B[0mappend\u001B[0m\u001B[0;34m(\u001B[0m\u001B[0mvocab\u001B[0m\u001B[0;34m[\u001B[0m\u001B[0mf\u001B[0m\u001B[0;34m]\u001B[0m\u001B[0;34m)\u001B[0m\u001B[0;34m\u001B[0m\u001B[0;34m\u001B[0m\u001B[0m\n\u001B[0m\u001B[1;32m    171\u001B[0m                     \u001B[0mvalues\u001B[0m\u001B[0;34m.\u001B[0m\u001B[0mappend\u001B[0m\u001B[0;34m(\u001B[0m\u001B[0mdtype\u001B[0m\u001B[0;34m(\u001B[0m\u001B[0mv\u001B[0m\u001B[0;34m)\u001B[0m\u001B[0;34m)\u001B[0m\u001B[0;34m\u001B[0m\u001B[0;34m\u001B[0m\u001B[0m\n\u001B[1;32m    172\u001B[0m                 \u001B[0;32melse\u001B[0m\u001B[0;34m:\u001B[0m\u001B[0;34m\u001B[0m\u001B[0;34m\u001B[0m\u001B[0m\n",
      "\u001B[0;31mKeyboardInterrupt\u001B[0m: "
     ]
    }
   ],
   "source": [
    "from sklearn.feature_extraction import DictVectorizer\n",
    "from scipy.spatial import distance\n",
    "from itertools import combinations\n",
    "\n",
    "def get_references():\n",
    "    most_popular_reference = next(db.materialized_reference_popularity.find().sort([('popularity', -1)]))\n",
    "    max_popularity = most_popular_reference['popularity']\n",
    "    reference_popularity = db.materialized_reference_popularity.find({'popularity': {'$lte': int(max_popularity / 2)}}).sort([('popularity', -1), ('_id', 1)])\n",
    "    return reference_popularity\n",
    "\n",
    "def calculate_vectors(reference_id):\n",
    "    vectorizer = DictVectorizer()\n",
    "    features = {}\n",
    "    for focal in reference_flows:\n",
    "        reference_flow = reference_flows[focal]\n",
    "        try:\n",
    "            last_index_of_reference = len(reference_flow) - reference_flow[::-1].index(reference_id) - 1\n",
    "            limited_reference_flow = reference_flow[:last_index_of_reference]\n",
    "        except ValueError:\n",
    "            # Use full history when there is no global reference in there\n",
    "            limited_reference_flow = reference_flow\n",
    "\n",
    "        #Exclude the currently investigated reference\n",
    "        limited_reference_flow = filter(lambda x: x != reference_id, limited_reference_flow)\n",
    "\n",
    "        #Feature selection algorithm (key is the feature and value is the intensity)\n",
    "        features[focal] = dict([(reference, 1) for reference in limited_reference_flow])\n",
    "\n",
    "    vectorizer.fit(features.values())\n",
    "    return dict(map(lambda e: (e[0], vectorizer.transform(e[1])), features.items()))\n",
    "\n",
    "def benchmark(vectors, reference_focals):\n",
    "    def focal_distance(focal_a, focal_b):\n",
    "        return distance.euclidean(vectors[focal_a].toarray(), vectors[focal_b].toarray())\n",
    "\n",
    "    def average_distance(focals):\n",
    "        total = 0.0\n",
    "        count = 0\n",
    "        for (a, b) in combinations(focals, 2):\n",
    "            total += focal_distance(a, b)\n",
    "            count += 1\n",
    "        return total / count\n",
    "\n",
    "    def average_distance_between(focals_a, focals_b):\n",
    "        total = 0.0\n",
    "        count = 0\n",
    "        for a in focals_a:\n",
    "            for b in focals_b:\n",
    "                total += focal_distance(a, b)\n",
    "                count += 1\n",
    "        return total / count\n",
    "\n",
    "    other_focals = list(filter(lambda x: x not in reference_focals, vectors.keys()))\n",
    "    return {\n",
    "        'within_reference': average_distance(reference_focals),\n",
    "        'within_non_reference': average_distance(other_focals),\n",
    "        'between_and_non_reference': average_distance_between(reference_focals, other_focals)\n",
    "    }\n",
    "\n",
    "import pandas as pd\n",
    "\n",
    "references = get_references()\n",
    "bs = []\n",
    "for i in range(500):\n",
    "    print(i)\n",
    "    reference = next(references)\n",
    "    vectors = calculate_vectors(reference['_id'])\n",
    "    b = benchmark(vectors, reference['focals'])\n",
    "    bs.append({\n",
    "        **b,\n",
    "        'reference': reference['_id'],\n",
    "        'supports_hypothesis': b['within_reference'] < b['within_non_reference']\n",
    "    })\n",
    "    result = pd.DataFrame(bs)\n",
    "    print(result['supports_hypothesis'].value_counts())"
   ],
   "metadata": {
    "collapsed": false,
    "pycharm": {
     "name": "#%%\n"
    }
   }
  }
 ],
 "metadata": {
  "kernelspec": {
   "display_name": "Python 3",
   "language": "python",
   "name": "python3"
  },
  "language_info": {
   "codemirror_mode": {
    "name": "ipython",
    "version": 2
   },
   "file_extension": ".py",
   "mimetype": "text/x-python",
   "name": "python",
   "nbconvert_exporter": "python",
   "pygments_lexer": "ipython2",
   "version": "2.7.6"
  }
 },
 "nbformat": 4,
 "nbformat_minor": 0
}