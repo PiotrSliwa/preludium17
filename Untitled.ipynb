{
 "cells": [
  {
   "cell_type": "code",
   "execution_count": 36,
   "metadata": {},
   "outputs": [],
   "source": [
    "import pandas as pd"
   ]
  },
  {
   "cell_type": "code",
   "execution_count": 37,
   "metadata": {},
   "outputs": [],
   "source": [
    "input_file = 'TechlandGames-ife.json'"
   ]
  },
  {
   "cell_type": "code",
   "execution_count": 38,
   "metadata": {},
   "outputs": [
    {
     "data": {
      "text/html": [
       "<div>\n",
       "<style scoped>\n",
       "    .dataframe tbody tr th:only-of-type {\n",
       "        vertical-align: middle;\n",
       "    }\n",
       "\n",
       "    .dataframe tbody tr th {\n",
       "        vertical-align: top;\n",
       "    }\n",
       "\n",
       "    .dataframe thead th {\n",
       "        text-align: right;\n",
       "    }\n",
       "</style>\n",
       "<table border=\"1\" class=\"dataframe\">\n",
       "  <thead>\n",
       "    <tr style=\"text-align: right;\">\n",
       "      <th></th>\n",
       "      <th>from</th>\n",
       "      <th>to</th>\n",
       "      <th>date</th>\n",
       "    </tr>\n",
       "  </thead>\n",
       "  <tbody>\n",
       "    <tr>\n",
       "      <th>0</th>\n",
       "      <td>twitter-user:@TechlandGames</td>\n",
       "      <td>twitter-hashtag:#hot16challenge2</td>\n",
       "      <td>2020-05-11 17:04:17+00:00</td>\n",
       "    </tr>\n",
       "    <tr>\n",
       "      <th>1</th>\n",
       "      <td>twitter-user:@TechlandGames</td>\n",
       "      <td>twitter-user:@xkom_pl</td>\n",
       "      <td>2020-05-11 17:04:17+00:00</td>\n",
       "    </tr>\n",
       "    <tr>\n",
       "      <th>2</th>\n",
       "      <td>twitter-user:@TechlandGames</td>\n",
       "      <td>url:http://hot16challenge.network</td>\n",
       "      <td>2020-05-11 17:04:17+00:00</td>\n",
       "    </tr>\n",
       "    <tr>\n",
       "      <th>3</th>\n",
       "      <td>twitter-user:@TechlandGames</td>\n",
       "      <td>url:https://www.siepomaga.pl/hot16challenge</td>\n",
       "      <td>2020-05-11 17:04:17+00:00</td>\n",
       "    </tr>\n",
       "    <tr>\n",
       "      <th>4</th>\n",
       "      <td>twitter-user:@TechlandGames</td>\n",
       "      <td>twitter-user:@DIAGNOSTYKA_lab</td>\n",
       "      <td>2020-04-27 15:00:30+00:00</td>\n",
       "    </tr>\n",
       "    <tr>\n",
       "      <th>...</th>\n",
       "      <td>...</td>\n",
       "      <td>...</td>\n",
       "      <td>...</td>\n",
       "    </tr>\n",
       "    <tr>\n",
       "      <th>995</th>\n",
       "      <td>twitter-user:@TechlandGames</td>\n",
       "      <td>twitter-hashtag:#VGA</td>\n",
       "      <td>2011-11-16 18:21:25+00:00</td>\n",
       "    </tr>\n",
       "    <tr>\n",
       "      <th>996</th>\n",
       "      <td>twitter-user:@TechlandGames</td>\n",
       "      <td>url:http://www.spike.com/events/video-game-awa...</td>\n",
       "      <td>2011-11-16 18:21:25+00:00</td>\n",
       "    </tr>\n",
       "    <tr>\n",
       "      <th>997</th>\n",
       "      <td>twitter-user:@TechlandGames</td>\n",
       "      <td>url:http://bit.ly/ehnpYT</td>\n",
       "      <td>2011-11-08 15:49:29+00:00</td>\n",
       "    </tr>\n",
       "    <tr>\n",
       "      <th>998</th>\n",
       "      <td>twitter-user:@TechlandGames</td>\n",
       "      <td>twitter-user:@miracleofsound</td>\n",
       "      <td>2011-11-03 16:48:57+00:00</td>\n",
       "    </tr>\n",
       "    <tr>\n",
       "      <th>999</th>\n",
       "      <td>twitter-user:@TechlandGames</td>\n",
       "      <td>url:http://www.escapistmagazine.com/videos/vie...</td>\n",
       "      <td>2011-11-03 16:48:57+00:00</td>\n",
       "    </tr>\n",
       "  </tbody>\n",
       "</table>\n",
       "<p>1000 rows × 3 columns</p>\n",
       "</div>"
      ],
      "text/plain": [
       "                            from  \\\n",
       "0    twitter-user:@TechlandGames   \n",
       "1    twitter-user:@TechlandGames   \n",
       "2    twitter-user:@TechlandGames   \n",
       "3    twitter-user:@TechlandGames   \n",
       "4    twitter-user:@TechlandGames   \n",
       "..                           ...   \n",
       "995  twitter-user:@TechlandGames   \n",
       "996  twitter-user:@TechlandGames   \n",
       "997  twitter-user:@TechlandGames   \n",
       "998  twitter-user:@TechlandGames   \n",
       "999  twitter-user:@TechlandGames   \n",
       "\n",
       "                                                    to  \\\n",
       "0                     twitter-hashtag:#hot16challenge2   \n",
       "1                                twitter-user:@xkom_pl   \n",
       "2                    url:http://hot16challenge.network   \n",
       "3          url:https://www.siepomaga.pl/hot16challenge   \n",
       "4                        twitter-user:@DIAGNOSTYKA_lab   \n",
       "..                                                 ...   \n",
       "995                               twitter-hashtag:#VGA   \n",
       "996  url:http://www.spike.com/events/video-game-awa...   \n",
       "997                           url:http://bit.ly/ehnpYT   \n",
       "998                       twitter-user:@miracleofsound   \n",
       "999  url:http://www.escapistmagazine.com/videos/vie...   \n",
       "\n",
       "                         date  \n",
       "0   2020-05-11 17:04:17+00:00  \n",
       "1   2020-05-11 17:04:17+00:00  \n",
       "2   2020-05-11 17:04:17+00:00  \n",
       "3   2020-05-11 17:04:17+00:00  \n",
       "4   2020-04-27 15:00:30+00:00  \n",
       "..                        ...  \n",
       "995 2011-11-16 18:21:25+00:00  \n",
       "996 2011-11-16 18:21:25+00:00  \n",
       "997 2011-11-08 15:49:29+00:00  \n",
       "998 2011-11-03 16:48:57+00:00  \n",
       "999 2011-11-03 16:48:57+00:00  \n",
       "\n",
       "[1000 rows x 3 columns]"
      ]
     },
     "execution_count": 38,
     "metadata": {},
     "output_type": "execute_result"
    }
   ],
   "source": [
    "df = pd.read_json(input_file)\n",
    "df"
   ]
  },
  {
   "cell_type": "code",
   "execution_count": 39,
   "metadata": {},
   "outputs": [],
   "source": [
    "aggr = df.groupby('to').count()"
   ]
  },
  {
   "cell_type": "code",
   "execution_count": 40,
   "metadata": {},
   "outputs": [
    {
     "data": {
      "text/html": [
       "<div>\n",
       "<style scoped>\n",
       "    .dataframe tbody tr th:only-of-type {\n",
       "        vertical-align: middle;\n",
       "    }\n",
       "\n",
       "    .dataframe tbody tr th {\n",
       "        vertical-align: top;\n",
       "    }\n",
       "\n",
       "    .dataframe thead th {\n",
       "        text-align: right;\n",
       "    }\n",
       "</style>\n",
       "<table border=\"1\" class=\"dataframe\">\n",
       "  <thead>\n",
       "    <tr style=\"text-align: right;\">\n",
       "      <th></th>\n",
       "      <th>from</th>\n",
       "      <th>date</th>\n",
       "    </tr>\n",
       "    <tr>\n",
       "      <th>to</th>\n",
       "      <th></th>\n",
       "      <th></th>\n",
       "    </tr>\n",
       "  </thead>\n",
       "  <tbody>\n",
       "    <tr>\n",
       "      <th>twitter-hashtag:#Techland</th>\n",
       "      <td>46</td>\n",
       "      <td>46</td>\n",
       "    </tr>\n",
       "    <tr>\n",
       "      <th>twitter-hashtag:#DyingLight2</th>\n",
       "      <td>41</td>\n",
       "      <td>41</td>\n",
       "    </tr>\n",
       "    <tr>\n",
       "      <th>twitter-user:@DyingLightGame</th>\n",
       "      <td>38</td>\n",
       "      <td>38</td>\n",
       "    </tr>\n",
       "    <tr>\n",
       "      <th>twitter-user:@DLBadBlood</th>\n",
       "      <td>33</td>\n",
       "      <td>33</td>\n",
       "    </tr>\n",
       "    <tr>\n",
       "      <th>twitter-hashtag:#BrutalRoyale</th>\n",
       "      <td>29</td>\n",
       "      <td>29</td>\n",
       "    </tr>\n",
       "    <tr>\n",
       "      <th>...</th>\n",
       "      <td>...</td>\n",
       "      <td>...</td>\n",
       "    </tr>\n",
       "    <tr>\n",
       "      <th>twitter-user:@PlayStation</th>\n",
       "      <td>1</td>\n",
       "      <td>1</td>\n",
       "    </tr>\n",
       "    <tr>\n",
       "      <th>twitter-user:@Phil019</th>\n",
       "      <td>1</td>\n",
       "      <td>1</td>\n",
       "    </tr>\n",
       "    <tr>\n",
       "      <th>twitter-user:@PWr_Wroclaw</th>\n",
       "      <td>1</td>\n",
       "      <td>1</td>\n",
       "    </tr>\n",
       "    <tr>\n",
       "      <th>twitter-user:@PIRATE_or_NINJA</th>\n",
       "      <td>1</td>\n",
       "      <td>1</td>\n",
       "    </tr>\n",
       "    <tr>\n",
       "      <th>url:https://youtu.be/lRHxEsNYAuU</th>\n",
       "      <td>1</td>\n",
       "      <td>1</td>\n",
       "    </tr>\n",
       "  </tbody>\n",
       "</table>\n",
       "<p>550 rows × 2 columns</p>\n",
       "</div>"
      ],
      "text/plain": [
       "                                  from  date\n",
       "to                                          \n",
       "twitter-hashtag:#Techland           46    46\n",
       "twitter-hashtag:#DyingLight2        41    41\n",
       "twitter-user:@DyingLightGame        38    38\n",
       "twitter-user:@DLBadBlood            33    33\n",
       "twitter-hashtag:#BrutalRoyale       29    29\n",
       "...                                ...   ...\n",
       "twitter-user:@PlayStation            1     1\n",
       "twitter-user:@Phil019                1     1\n",
       "twitter-user:@PWr_Wroclaw            1     1\n",
       "twitter-user:@PIRATE_or_NINJA        1     1\n",
       "url:https://youtu.be/lRHxEsNYAuU     1     1\n",
       "\n",
       "[550 rows x 2 columns]"
      ]
     },
     "execution_count": 40,
     "metadata": {},
     "output_type": "execute_result"
    }
   ],
   "source": [
    "s = aggr.sort_values(by='from', ascending=False)\n",
    "s"
   ]
  },
  {
   "cell_type": "code",
   "execution_count": 41,
   "metadata": {},
   "outputs": [
    {
     "data": {
      "text/plain": [
       "<matplotlib.axes._subplots.AxesSubplot at 0x1b1a586ad88>"
      ]
     },
     "execution_count": 41,
     "metadata": {},
     "output_type": "execute_result"
    },
    {
     "data": {
      "image/png": "[encoded data removed]",
      "text/plain": [
       "<Figure size 432x288 with 1 Axes>"
      ]
     },
     "metadata": {
      "needs_background": "light"
     },
     "output_type": "display_data"
    }
   ],
   "source": [
    "s.plot()"
   ]
  }
 ],
 "metadata": {
  "kernelspec": {
   "display_name": "Python 3",
   "language": "python",
   "name": "python3"
  },
  "language_info": {
   "codemirror_mode": {
    "name": "ipython",
    "version": 3
   },
   "file_extension": ".py",
   "mimetype": "text/x-python",
   "name": "python",
   "nbconvert_exporter": "python",
   "pygments_lexer": "ipython3",
   "version": "3.7.6"
  }
 },
 "nbformat": 4,
 "nbformat_minor": 4
}
